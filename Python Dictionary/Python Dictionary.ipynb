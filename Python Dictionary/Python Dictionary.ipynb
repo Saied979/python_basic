{
 "cells": [
  {
   "cell_type": "markdown",
   "metadata": {},
   "source": [
    "## ------------------------- Python Dictionaries -------------------"
   ]
  },
  {
   "cell_type": "markdown",
   "metadata": {},
   "source": [
    "### A dictionary is a collection which is unordered, changeable and indexed. In Python dictionaries are written with curly brackets-{}, and they have keys and values."
   ]
  },
  {
   "cell_type": "code",
   "execution_count": 2,
   "metadata": {},
   "outputs": [
    {
     "name": "stdout",
     "output_type": "stream",
     "text": [
      "{'Dhaka': 10, 'Chittagong': 15, 'Sylhet': 16, 'Khulna': 18, 'Ranput': 20}\n"
     ]
    }
   ],
   "source": [
    "# create Dictionary\n",
    "\n",
    "dic = {'Dhaka': 10, 'Chittagong': 15, 'Sylhet': 16, 'Khulna': 18, 'Ranput': 20}\n",
    "\n",
    "print(dic)"
   ]
  },
  {
   "cell_type": "code",
   "execution_count": 3,
   "metadata": {},
   "outputs": [
    {
     "data": {
      "text/plain": [
       "dict"
      ]
     },
     "execution_count": 3,
     "metadata": {},
     "output_type": "execute_result"
    }
   ],
   "source": [
    "type(dic)"
   ]
  },
  {
   "cell_type": "markdown",
   "metadata": {},
   "source": [
    "### ------------------------- Accessing Items ---------------------------\n"
   ]
  },
  {
   "cell_type": "code",
   "execution_count": 8,
   "metadata": {},
   "outputs": [
    {
     "name": "stdout",
     "output_type": "stream",
     "text": [
      "10\n"
     ]
    }
   ],
   "source": [
    "\n",
    "# You can access the items of a dictionary by referring to its key name, inside square brackets\n",
    "\n",
    "x = dic[\"Dhaka\"]\n",
    "print(x)"
   ]
  },
  {
   "cell_type": "code",
   "execution_count": 11,
   "metadata": {},
   "outputs": [
    {
     "name": "stdout",
     "output_type": "stream",
     "text": [
      "18\n"
     ]
    }
   ],
   "source": [
    "# Another way to access value by using get mehtod....\n",
    "\n",
    "x = dic.get(\"Khulna\")\n",
    "print(x)"
   ]
  },
  {
   "cell_type": "markdown",
   "metadata": {},
   "source": [
    "### ------------------------- Change Values ----------------------------"
   ]
  },
  {
   "cell_type": "code",
   "execution_count": 12,
   "metadata": {},
   "outputs": [
    {
     "data": {
      "text/plain": [
       "{'Dhaka': 10, 'Chittagong': 15, 'Sylhet': 16, 'Khulna': 18, 'Ranput': 20}"
      ]
     },
     "execution_count": 12,
     "metadata": {},
     "output_type": "execute_result"
    }
   ],
   "source": [
    "dic"
   ]
  },
  {
   "cell_type": "code",
   "execution_count": 13,
   "metadata": {},
   "outputs": [
    {
     "data": {
      "text/plain": [
       "10"
      ]
     },
     "execution_count": 13,
     "metadata": {},
     "output_type": "execute_result"
    }
   ],
   "source": [
    "dic['Dhaka']"
   ]
  },
  {
   "cell_type": "code",
   "execution_count": 14,
   "metadata": {},
   "outputs": [
    {
     "name": "stdout",
     "output_type": "stream",
     "text": [
      "{'Dhaka': 15, 'Chittagong': 15, 'Sylhet': 16, 'Khulna': 18, 'Ranput': 20}\n"
     ]
    }
   ],
   "source": [
    "dic['Dhaka'] = 15  # change value by assign by his key \n",
    "print(dic)"
   ]
  },
  {
   "cell_type": "markdown",
   "metadata": {},
   "source": [
    "### --------------------------- Insert Value --------------------------------"
   ]
  },
  {
   "cell_type": "code",
   "execution_count": 15,
   "metadata": {},
   "outputs": [
    {
     "data": {
      "text/plain": [
       "{'Dhaka': 15, 'Chittagong': 15, 'Sylhet': 16, 'Khulna': 18, 'Ranput': 20}"
      ]
     },
     "execution_count": 15,
     "metadata": {},
     "output_type": "execute_result"
    }
   ],
   "source": [
    "dic"
   ]
  },
  {
   "cell_type": "code",
   "execution_count": 16,
   "metadata": {},
   "outputs": [
    {
     "name": "stdout",
     "output_type": "stream",
     "text": [
      "{'Dhaka': 15, 'Chittagong': 15, 'Sylhet': 16, 'Khulna': 18, 'Ranput': 20, 'Feni': 30}\n"
     ]
    }
   ],
   "source": [
    "dic['Feni'] = 30\n",
    "print(dic)"
   ]
  },
  {
   "cell_type": "code",
   "execution_count": 17,
   "metadata": {},
   "outputs": [
    {
     "name": "stdout",
     "output_type": "stream",
     "text": [
      "{'Dhaka': 15, 'Chittagong': 15, 'Sylhet': 16, 'Khulna': 18, 'Ranput': 20, 'Feni': 30}\n"
     ]
    }
   ],
   "source": [
    "# -------------------- Update() ------------------------------\n",
    "\n",
    "#The update() method inserts the specified items to the dictionary.\n",
    "\n",
    "print(dic)"
   ]
  },
  {
   "cell_type": "code",
   "execution_count": 40,
   "metadata": {},
   "outputs": [
    {
     "name": "stdout",
     "output_type": "stream",
     "text": [
      "{'banani': 50}\n"
     ]
    }
   ],
   "source": [
    "dic.update({\"banani\" : 50})\n",
    "print(dic)"
   ]
  },
  {
   "cell_type": "markdown",
   "metadata": {},
   "source": [
    "### --------------------- Removing Item from dictionary ---------------------"
   ]
  },
  {
   "cell_type": "code",
   "execution_count": 43,
   "metadata": {},
   "outputs": [],
   "source": [
    "dic = {'Dhaka': 15, 'Chittagong': 15, 'Sylhet': 16, 'Ranput': 20, 'Feni': 30, 'banani': 'White'}"
   ]
  },
  {
   "cell_type": "code",
   "execution_count": 20,
   "metadata": {},
   "outputs": [
    {
     "name": "stdout",
     "output_type": "stream",
     "text": [
      "{'Dhaka': 15, 'Chittagong': 15, 'Sylhet': 16, 'Ranput': 20, 'Feni': 30, 'banani': 'White'}\n"
     ]
    }
   ],
   "source": [
    "# ues del\n",
    "# The del keyword removes the item with the specified key name..\n",
    "# The del keyword can also delete the dictionary completely\n",
    "\n",
    "del dic['Khulna']\n",
    "print(dic)"
   ]
  },
  {
   "cell_type": "code",
   "execution_count": 21,
   "metadata": {},
   "outputs": [],
   "source": [
    "#---------------------- Delete by pop() method ------------------------"
   ]
  },
  {
   "cell_type": "code",
   "execution_count": 22,
   "metadata": {},
   "outputs": [
    {
     "data": {
      "text/plain": [
       "{'Dhaka': 15,\n",
       " 'Chittagong': 15,\n",
       " 'Sylhet': 16,\n",
       " 'Ranput': 20,\n",
       " 'Feni': 30,\n",
       " 'banani': 'White'}"
      ]
     },
     "execution_count": 22,
     "metadata": {},
     "output_type": "execute_result"
    }
   ],
   "source": [
    "# The pop() method removes the specified item from the dictionary.\n",
    "# The value of the removed item is the return value of the pop() method\n",
    "\n",
    "dic"
   ]
  },
  {
   "cell_type": "code",
   "execution_count": 23,
   "metadata": {},
   "outputs": [
    {
     "name": "stdout",
     "output_type": "stream",
     "text": [
      "20\n"
     ]
    }
   ],
   "source": [
    "x = dic.pop(\"Ranput\")\n",
    "print(x)"
   ]
  },
  {
   "cell_type": "code",
   "execution_count": 24,
   "metadata": {},
   "outputs": [],
   "source": [
    "#------------------------ Delete by popitem() ---------------------"
   ]
  },
  {
   "cell_type": "code",
   "execution_count": 31,
   "metadata": {},
   "outputs": [
    {
     "name": "stdout",
     "output_type": "stream",
     "text": [
      "{'Dhaka': 15, 'Chittagong': 15, 'Sylhet': 16, 'Feni': 30, 'banani': 'White'}\n"
     ]
    }
   ],
   "source": [
    "# The popitem() method removes the item that was last inserted into the dictionary\n",
    "# In versions before 3.7, the popitem() method removes a random item.\n",
    "# The removed item is the return value of the popitem() method, as a tuple,\n",
    "\n",
    "dic = {'Dhaka': 15, 'Chittagong': 15, 'Sylhet': 16, 'Feni': 30, 'banani': 'White'}\n",
    "print(dic)"
   ]
  },
  {
   "cell_type": "code",
   "execution_count": 32,
   "metadata": {},
   "outputs": [
    {
     "name": "stdout",
     "output_type": "stream",
     "text": [
      "{'Dhaka': 15, 'Chittagong': 15, 'Sylhet': 16, 'Feni': 30, 'banani': 'White', 'Mirpur': 40}\n"
     ]
    }
   ],
   "source": [
    "dic['Mirpur'] = 40   \n",
    "print(dic)    "
   ]
  },
  {
   "cell_type": "code",
   "execution_count": 33,
   "metadata": {},
   "outputs": [
    {
     "name": "stdout",
     "output_type": "stream",
     "text": [
      "('Mirpur', 40)\n"
     ]
    }
   ],
   "source": [
    "x = dic.popitem()\n",
    "print(x)         # this item delete from dictionary because it's insert last"
   ]
  },
  {
   "cell_type": "code",
   "execution_count": null,
   "metadata": {},
   "outputs": [],
   "source": []
  },
  {
   "cell_type": "code",
   "execution_count": 34,
   "metadata": {},
   "outputs": [
    {
     "data": {
      "text/plain": [
       "{'Dhaka': 15, 'Chittagong': 15, 'Sylhet': 16, 'Feni': 30, 'banani': 'White'}"
      ]
     },
     "execution_count": 34,
     "metadata": {},
     "output_type": "execute_result"
    }
   ],
   "source": [
    "# ----------------------------- Clear() ------------------------------\n",
    "\n",
    "# Remove all elements from the dictionary\n",
    "\n",
    "dic"
   ]
  },
  {
   "cell_type": "code",
   "execution_count": 36,
   "metadata": {},
   "outputs": [
    {
     "name": "stdout",
     "output_type": "stream",
     "text": [
      "{}\n"
     ]
    }
   ],
   "source": [
    "dic.clear()\n",
    "print(dic)"
   ]
  },
  {
   "cell_type": "markdown",
   "metadata": {},
   "source": [
    "### ----------------------------- View Dictionary ------------------------------"
   ]
  },
  {
   "cell_type": "code",
   "execution_count": 44,
   "metadata": {},
   "outputs": [
    {
     "name": "stdout",
     "output_type": "stream",
     "text": [
      "16\n"
     ]
    }
   ],
   "source": [
    "# ---------------------------- get() -------------------------\n",
    "\n",
    "# The get() method returns the value of the item with the specified key.\n",
    "\n",
    "dic = {'Dhaka': 15, 'Chittagong': 15, 'Sylhet': 16, 'Feni': 30, 'banani': 50}\n",
    "\n",
    "x = dic.get(\"Sylhet\")\n",
    "print(x)"
   ]
  },
  {
   "cell_type": "code",
   "execution_count": null,
   "metadata": {},
   "outputs": [],
   "source": [
    "# get()\n",
    "\n",
    "#Syntax - dictionary.get(keyname, value)\n",
    "\n",
    "# keyname - Required. The keyname of the item you want to return the value from\n",
    "\n",
    "# value - Optional. A value to return if the specified key does not exist.\n",
    "#  Default value None"
   ]
  },
  {
   "cell_type": "code",
   "execution_count": 104,
   "metadata": {},
   "outputs": [
    {
     "data": {
      "text/plain": [
       "'Navin'"
      ]
     },
     "execution_count": 104,
     "metadata": {},
     "output_type": "execute_result"
    }
   ],
   "source": [
    "data = {1:'Navin', 2:'saied', 4:'Anwar'}\n",
    "\n",
    "data.get(1)"
   ]
  },
  {
   "cell_type": "code",
   "execution_count": 105,
   "metadata": {},
   "outputs": [
    {
     "name": "stdout",
     "output_type": "stream",
     "text": [
      "None\n"
     ]
    }
   ],
   "source": [
    "print(data.get(3))"
   ]
  },
  {
   "cell_type": "code",
   "execution_count": 106,
   "metadata": {},
   "outputs": [
    {
     "data": {
      "text/plain": [
       "'Not Found'"
      ]
     },
     "execution_count": 106,
     "metadata": {},
     "output_type": "execute_result"
    }
   ],
   "source": [
    "data.get(3, \"Not Found\")"
   ]
  },
  {
   "cell_type": "code",
   "execution_count": 109,
   "metadata": {},
   "outputs": [
    {
     "data": {
      "text/plain": [
       "'saied'"
      ]
     },
     "execution_count": 109,
     "metadata": {},
     "output_type": "execute_result"
    }
   ],
   "source": [
    "data.get(2, \"Not Found\")"
   ]
  },
  {
   "cell_type": "code",
   "execution_count": null,
   "metadata": {},
   "outputs": [],
   "source": []
  },
  {
   "cell_type": "code",
   "execution_count": 45,
   "metadata": {},
   "outputs": [],
   "source": [
    "# ----------------------- items() ---------------------------------\n",
    "\n",
    "# The items() method returns a view object. \n",
    "#The view object contains the key-value pairs of the dictionary, as tuples in a list."
   ]
  },
  {
   "cell_type": "code",
   "execution_count": 46,
   "metadata": {},
   "outputs": [
    {
     "data": {
      "text/plain": [
       "{'Dhaka': 15, 'Chittagong': 15, 'Sylhet': 16, 'Feni': 30, 'banani': 50}"
      ]
     },
     "execution_count": 46,
     "metadata": {},
     "output_type": "execute_result"
    }
   ],
   "source": [
    "dic"
   ]
  },
  {
   "cell_type": "code",
   "execution_count": 47,
   "metadata": {},
   "outputs": [
    {
     "name": "stdout",
     "output_type": "stream",
     "text": [
      "dict_items([('Dhaka', 15), ('Chittagong', 15), ('Sylhet', 16), ('Feni', 30), ('banani', 50)])\n"
     ]
    }
   ],
   "source": [
    "x = dic.items()\n",
    "print(x)"
   ]
  },
  {
   "cell_type": "code",
   "execution_count": 48,
   "metadata": {},
   "outputs": [
    {
     "name": "stdout",
     "output_type": "stream",
     "text": [
      "dict_items([('Dhaka', 15), ('Chittagong', 15), ('Sylhet', 16), ('Feni', 30), ('banani', 50), ('Dhanmondi', 60)])\n"
     ]
    }
   ],
   "source": [
    "x = dic.items()\n",
    "\n",
    "dic['Dhanmondi'] = 60\n",
    "print(x)"
   ]
  },
  {
   "cell_type": "code",
   "execution_count": null,
   "metadata": {},
   "outputs": [],
   "source": []
  },
  {
   "cell_type": "code",
   "execution_count": 49,
   "metadata": {},
   "outputs": [
    {
     "data": {
      "text/plain": [
       "{'Dhaka': 15,\n",
       " 'Chittagong': 15,\n",
       " 'Sylhet': 16,\n",
       " 'Feni': 30,\n",
       " 'banani': 50,\n",
       " 'Dhanmondi': 60}"
      ]
     },
     "execution_count": 49,
     "metadata": {},
     "output_type": "execute_result"
    }
   ],
   "source": [
    "# -------------------------- values() -----------------------------\n",
    "\n",
    "# The values() method returns a view object. The view object contains the values of the dictionary, as a list\n",
    "\n",
    "dic"
   ]
  },
  {
   "cell_type": "code",
   "execution_count": 50,
   "metadata": {},
   "outputs": [
    {
     "name": "stdout",
     "output_type": "stream",
     "text": [
      "dict_values([15, 15, 16, 30, 50, 60])\n"
     ]
    }
   ],
   "source": [
    "x = dic.values()\n",
    "print(x)"
   ]
  },
  {
   "cell_type": "code",
   "execution_count": 51,
   "metadata": {},
   "outputs": [
    {
     "data": {
      "text/plain": [
       "{'Dhaka': 15,\n",
       " 'Chittagong': 15,\n",
       " 'Sylhet': 16,\n",
       " 'Feni': 30,\n",
       " 'banani': 50,\n",
       " 'Dhanmondi': 60}"
      ]
     },
     "execution_count": 51,
     "metadata": {},
     "output_type": "execute_result"
    }
   ],
   "source": [
    "# ------------------- keys() ---------------------------------\n",
    "\n",
    "# The keys() method returns a view object. The view object contains the keys of the dictionary, as a list.\n",
    "\n",
    "dic"
   ]
  },
  {
   "cell_type": "code",
   "execution_count": 52,
   "metadata": {},
   "outputs": [
    {
     "name": "stdout",
     "output_type": "stream",
     "text": [
      "dict_keys(['Dhaka', 'Chittagong', 'Sylhet', 'Feni', 'banani', 'Dhanmondi'])\n"
     ]
    }
   ],
   "source": [
    "x = dic.keys()\n",
    "print(x)"
   ]
  },
  {
   "cell_type": "markdown",
   "metadata": {},
   "source": [
    "### ------------------------- Dictionary Length ------------------------------"
   ]
  },
  {
   "cell_type": "code",
   "execution_count": 53,
   "metadata": {},
   "outputs": [
    {
     "name": "stdout",
     "output_type": "stream",
     "text": [
      "{'Dhaka': 15, 'Chittagong': 15, 'Sylhet': 16, 'Feni': 30, 'banani': 50, 'Dhanmondi': 60}\n"
     ]
    }
   ],
   "source": [
    "# To determine how many items (key-value pairs) a dictionary has, use the len() function.\n",
    "\n",
    "print(dic)"
   ]
  },
  {
   "cell_type": "code",
   "execution_count": 54,
   "metadata": {},
   "outputs": [
    {
     "name": "stdout",
     "output_type": "stream",
     "text": [
      "6\n"
     ]
    }
   ],
   "source": [
    "print(len(dic))"
   ]
  },
  {
   "cell_type": "markdown",
   "metadata": {},
   "source": [
    "### ------------------------ Copy Dictionary ------------------------"
   ]
  },
  {
   "cell_type": "code",
   "execution_count": 55,
   "metadata": {},
   "outputs": [
    {
     "data": {
      "text/plain": [
       "{'Dhaka': 15,\n",
       " 'Chittagong': 15,\n",
       " 'Sylhet': 16,\n",
       " 'Feni': 30,\n",
       " 'banani': 50,\n",
       " 'Dhanmondi': 60}"
      ]
     },
     "execution_count": 55,
     "metadata": {},
     "output_type": "execute_result"
    }
   ],
   "source": [
    "# copy()\n",
    "\n",
    "dic"
   ]
  },
  {
   "cell_type": "code",
   "execution_count": 56,
   "metadata": {},
   "outputs": [
    {
     "name": "stdout",
     "output_type": "stream",
     "text": [
      "{'Dhaka': 15, 'Chittagong': 15, 'Sylhet': 16, 'Feni': 30, 'banani': 50, 'Dhanmondi': 60}\n"
     ]
    }
   ],
   "source": [
    "mydic = dic.copy()\n",
    "\n",
    "print(mydic)"
   ]
  },
  {
   "cell_type": "markdown",
   "metadata": {},
   "source": [
    "### -------------------------- Loop Through a Dictionary ------------------"
   ]
  },
  {
   "cell_type": "code",
   "execution_count": 57,
   "metadata": {},
   "outputs": [
    {
     "data": {
      "text/plain": [
       "{'Dhaka': 15,\n",
       " 'Chittagong': 15,\n",
       " 'Sylhet': 16,\n",
       " 'Feni': 30,\n",
       " 'banani': 50,\n",
       " 'Dhanmondi': 60}"
      ]
     },
     "execution_count": 57,
     "metadata": {},
     "output_type": "execute_result"
    }
   ],
   "source": [
    "# print all key names in the dictionary, one by one...\n",
    "\n",
    "mydic"
   ]
  },
  {
   "cell_type": "code",
   "execution_count": 58,
   "metadata": {},
   "outputs": [
    {
     "name": "stdout",
     "output_type": "stream",
     "text": [
      "Dhaka\n",
      "Chittagong\n",
      "Sylhet\n",
      "Feni\n",
      "banani\n",
      "Dhanmondi\n"
     ]
    }
   ],
   "source": [
    "for item in mydic:\n",
    "    print(item)"
   ]
  },
  {
   "cell_type": "code",
   "execution_count": 59,
   "metadata": {},
   "outputs": [
    {
     "name": "stdout",
     "output_type": "stream",
     "text": [
      "15\n",
      "15\n",
      "16\n",
      "30\n",
      "50\n",
      "60\n"
     ]
    }
   ],
   "source": [
    "# print all values in the dictionary...\n",
    "\n",
    "for item in mydic:\n",
    "    print(mydic[item])"
   ]
  },
  {
   "cell_type": "code",
   "execution_count": 70,
   "metadata": {},
   "outputs": [
    {
     "name": "stdout",
     "output_type": "stream",
     "text": [
      "Dhaka\n",
      "15\n",
      "Chittagong\n",
      "15\n",
      "Sylhet\n",
      "16\n",
      "Feni\n",
      "30\n",
      "banani\n",
      "50\n",
      "Dhanmondi\n",
      "60\n"
     ]
    }
   ],
   "source": [
    "# print keys and values both from dictionary.....\n",
    "\n",
    "for item in mydic:\n",
    "    print(item)\n",
    "    print(mydic[item])\n",
    "   "
   ]
  },
  {
   "cell_type": "code",
   "execution_count": 71,
   "metadata": {},
   "outputs": [
    {
     "data": {
      "text/plain": [
       "{'Dhaka': 15,\n",
       " 'Chittagong': 15,\n",
       " 'Sylhet': 16,\n",
       " 'Feni': 30,\n",
       " 'banani': 50,\n",
       " 'Dhanmondi': 60}"
      ]
     },
     "execution_count": 71,
     "metadata": {},
     "output_type": "execute_result"
    }
   ],
   "source": [
    "# using values() method on loop..\n",
    "# #values() method to return values of a dictionary\n",
    "\n",
    "mydic"
   ]
  },
  {
   "cell_type": "code",
   "execution_count": 73,
   "metadata": {},
   "outputs": [
    {
     "name": "stdout",
     "output_type": "stream",
     "text": [
      "15\n",
      "15\n",
      "16\n",
      "30\n",
      "50\n",
      "60\n"
     ]
    }
   ],
   "source": [
    "for item in dic.values():\n",
    "    print(item)"
   ]
  },
  {
   "cell_type": "code",
   "execution_count": 74,
   "metadata": {},
   "outputs": [],
   "source": [
    "# ----------------using items() method on loop get item ----------------"
   ]
  },
  {
   "cell_type": "code",
   "execution_count": 75,
   "metadata": {},
   "outputs": [
    {
     "name": "stdout",
     "output_type": "stream",
     "text": [
      "('Dhaka', 15)\n",
      "('Chittagong', 15)\n",
      "('Sylhet', 16)\n",
      "('Feni', 30)\n",
      "('banani', 50)\n",
      "('Dhanmondi', 60)\n"
     ]
    }
   ],
   "source": [
    "for item in dic.items():\n",
    "    print(item)\n",
    "    "
   ]
  },
  {
   "cell_type": "markdown",
   "metadata": {},
   "source": [
    "### ---------------------------- Check if key Exists ---------------------------"
   ]
  },
  {
   "cell_type": "code",
   "execution_count": 76,
   "metadata": {},
   "outputs": [],
   "source": [
    "# To determine if a specified key in present in a dictionary use the in keyword."
   ]
  },
  {
   "cell_type": "code",
   "execution_count": 77,
   "metadata": {},
   "outputs": [
    {
     "name": "stdout",
     "output_type": "stream",
     "text": [
      "{'Dhaka': 15, 'Chittagong': 15, 'Sylhet': 16, 'Feni': 30, 'banani': 50, 'Dhanmondi': 60}\n"
     ]
    }
   ],
   "source": [
    "print(mydic)"
   ]
  },
  {
   "cell_type": "code",
   "execution_count": 78,
   "metadata": {},
   "outputs": [
    {
     "name": "stdout",
     "output_type": "stream",
     "text": [
      "My Home Town is Feni\n"
     ]
    }
   ],
   "source": [
    "if \"Feni\" in mydic:\n",
    "    print(\"My Home Town is Feni\")"
   ]
  },
  {
   "cell_type": "markdown",
   "metadata": {},
   "source": [
    "### ------------------------- Nested Dictionaries -----------------------------"
   ]
  },
  {
   "cell_type": "code",
   "execution_count": 79,
   "metadata": {},
   "outputs": [],
   "source": [
    "# A dictionary can also contain many dictionaries, this is called nested dictionaries."
   ]
  },
  {
   "cell_type": "code",
   "execution_count": 82,
   "metadata": {},
   "outputs": [
    {
     "name": "stdout",
     "output_type": "stream",
     "text": [
      "{'child1': {'name': 'Afra', 'year': 2004}, 'child2': {'name': 'Mafa', 'year': 2007}, 'Child3': {'name': 'Max', 'year': 2011}}\n"
     ]
    }
   ],
   "source": [
    "myfamily = {\n",
    "    \"child1\" : {\n",
    "        \"name\" : \"Afra\",\n",
    "        \"year\" : 2004\n",
    "    },\n",
    "    \"child2\" : {\n",
    "        \"name\" : \"Mafa\",\n",
    "        \"year\" : 2007\n",
    "    },\n",
    "    \"Child3\" : {\n",
    "        \"name\" : \"Max\",\n",
    "        \"year\" : 2011\n",
    "    }\n",
    "}\n",
    "\n",
    "print(myfamily)"
   ]
  },
  {
   "cell_type": "code",
   "execution_count": 90,
   "metadata": {},
   "outputs": [
    {
     "name": "stdout",
     "output_type": "stream",
     "text": [
      "{'child1': {'name': 'Afra', 'year': 2004}, 'child2': {'name': 'Mafa', 'year': 2007}, 'child3': {'name': 'Max', 'year': 2011}}\n"
     ]
    }
   ],
   "source": [
    "# if you want to nest three dictionaries that already exists as dictionaries:\n",
    "\n",
    "# Create three dictionaries, then create one dictionary that will contain the other three dictionaries..\n",
    "\n",
    "\n",
    "child1 = {\n",
    "    \"name\" : \"Afra\",\n",
    "    \"year\" : 2004\n",
    "}\n",
    "    \n",
    "child2 = {\n",
    "    \"name\" : \"Mafa\",\n",
    "    \"year\" : 2007\n",
    "}\n",
    "    \n",
    "child3 = {\n",
    "    \"name\" : \"Max\",\n",
    "    \"year\" : 2011\n",
    "}\n",
    "\n",
    "\n",
    "myfamily = {\n",
    "    \"child1\" : child1,\n",
    "    \"child2\" : child2,\n",
    "    \"child3\" : child3\n",
    "}\n",
    "\n",
    "print(myfamily)"
   ]
  },
  {
   "cell_type": "markdown",
   "metadata": {},
   "source": [
    "### ------------------------- dict() Constructor ---------------------------"
   ]
  },
  {
   "cell_type": "code",
   "execution_count": 91,
   "metadata": {},
   "outputs": [
    {
     "name": "stdout",
     "output_type": "stream",
     "text": [
      "{'brand': 'Ford', 'model': 'Mustang', 'year': 1964}\n"
     ]
    }
   ],
   "source": [
    "# It is also possible to use the dict() constructor to make a new dictionary.\n",
    "\n",
    "newdict = dict(brand = \"Ford\", model = \"Mustang\", year = 1964)\n",
    "\n",
    "print(newdict)"
   ]
  },
  {
   "cell_type": "markdown",
   "metadata": {},
   "source": [
    "### ------------------------- List to Dictionary ---------------------------- "
   ]
  },
  {
   "cell_type": "code",
   "execution_count": 92,
   "metadata": {},
   "outputs": [
    {
     "name": "stdout",
     "output_type": "stream",
     "text": [
      "{'Sourve': 'PHP', 'Saimun': 'JS', 'Saied': 'Python'}\n"
     ]
    }
   ],
   "source": [
    "key = [\"Sourve\", \"Saimun\", \"Saied\"]\n",
    "\n",
    "value = [\"PHP\", \"JS\", \"Python\"]\n",
    "\n",
    "data = dict(zip(key, value))\n",
    "print(data)"
   ]
  },
  {
   "cell_type": "code",
   "execution_count": 94,
   "metadata": {},
   "outputs": [
    {
     "data": {
      "text/plain": [
       "'JS'"
      ]
     },
     "execution_count": 94,
     "metadata": {},
     "output_type": "execute_result"
    }
   ],
   "source": [
    "data['Saimun']"
   ]
  },
  {
   "cell_type": "markdown",
   "metadata": {},
   "source": [
    "### ------------------ Some Other Operation of Dictionary -----------------"
   ]
  },
  {
   "cell_type": "code",
   "execution_count": 112,
   "metadata": {},
   "outputs": [],
   "source": [
    "program = {'JS':'Atom', 'CS':'VS', 'Python':['Pycharm', 'Subline'], 'Java':{'JSE':'Netbeans', 'JEE':'Eclipse'}}"
   ]
  },
  {
   "cell_type": "code",
   "execution_count": 113,
   "metadata": {},
   "outputs": [
    {
     "data": {
      "text/plain": [
       "{'JS': 'Atom',\n",
       " 'CS': 'VS',\n",
       " 'Python': ['Pycharm', 'Subline'],\n",
       " 'Java': {'JSE': 'Netbeans', 'JEE': 'Eclipse'}}"
      ]
     },
     "execution_count": 113,
     "metadata": {},
     "output_type": "execute_result"
    }
   ],
   "source": [
    "program"
   ]
  },
  {
   "cell_type": "code",
   "execution_count": 114,
   "metadata": {},
   "outputs": [
    {
     "data": {
      "text/plain": [
       "'Atom'"
      ]
     },
     "execution_count": 114,
     "metadata": {},
     "output_type": "execute_result"
    }
   ],
   "source": [
    "program[\"JS\"]"
   ]
  },
  {
   "cell_type": "code",
   "execution_count": 115,
   "metadata": {},
   "outputs": [
    {
     "data": {
      "text/plain": [
       "['Pycharm', 'Subline']"
      ]
     },
     "execution_count": 115,
     "metadata": {},
     "output_type": "execute_result"
    }
   ],
   "source": [
    "program[\"Python\"]"
   ]
  },
  {
   "cell_type": "code",
   "execution_count": 116,
   "metadata": {},
   "outputs": [
    {
     "data": {
      "text/plain": [
       "['Pycharm', 'Subline']"
      ]
     },
     "execution_count": 116,
     "metadata": {},
     "output_type": "execute_result"
    }
   ],
   "source": [
    "program[\"Python\"]"
   ]
  },
  {
   "cell_type": "code",
   "execution_count": 117,
   "metadata": {},
   "outputs": [
    {
     "data": {
      "text/plain": [
       "'Eclipse'"
      ]
     },
     "execution_count": 117,
     "metadata": {},
     "output_type": "execute_result"
    }
   ],
   "source": [
    "program['Java']['JEE']"
   ]
  },
  {
   "cell_type": "code",
   "execution_count": null,
   "metadata": {},
   "outputs": [],
   "source": []
  }
 ],
 "metadata": {
  "kernelspec": {
   "display_name": "Python 3",
   "language": "python",
   "name": "python3"
  },
  "language_info": {
   "codemirror_mode": {
    "name": "ipython",
    "version": 3
   },
   "file_extension": ".py",
   "mimetype": "text/x-python",
   "name": "python",
   "nbconvert_exporter": "python",
   "pygments_lexer": "ipython3",
   "version": "3.8.3"
  }
 },
 "nbformat": 4,
 "nbformat_minor": 4
}
