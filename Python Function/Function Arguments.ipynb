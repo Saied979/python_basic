{
 "cells": [
  {
   "cell_type": "markdown",
   "metadata": {},
   "source": [
    "## --------------- Python Function Arguments ----------------"
   ]
  },
  {
   "cell_type": "markdown",
   "metadata": {},
   "source": [
    "#### In Python, you can define a function that takes variable number of arguments. "
   ]
  },
  {
   "cell_type": "code",
   "execution_count": 1,
   "metadata": {},
   "outputs": [],
   "source": [
    "# Arguments\n",
    "# In the user-defined function topic, we learned about defining a function and calling it. Otherwise, the function call will result in an error.\n",
    "# Here is an example."
   ]
  },
  {
   "cell_type": "code",
   "execution_count": 2,
   "metadata": {},
   "outputs": [
    {
     "name": "stdout",
     "output_type": "stream",
     "text": [
      "Hello Monica, Good morning!\n"
     ]
    }
   ],
   "source": [
    "def greet(name, msg):\n",
    "    \"\"\"This function greets to\n",
    "    the person with the provided message\"\"\"\n",
    "    print(\"Hello\", name + ', '+ msg)\n",
    "\n",
    "greet(\"Monica\", \"Good morning!\")"
   ]
  },
  {
   "cell_type": "code",
   "execution_count": 3,
   "metadata": {},
   "outputs": [
    {
     "ename": "TypeError",
     "evalue": "greet() missing 1 required positional argument: 'msg'",
     "output_type": "error",
     "traceback": [
      "\u001b[1;31m---------------------------------------------------------------------------\u001b[0m",
      "\u001b[1;31mTypeError\u001b[0m                                 Traceback (most recent call last)",
      "\u001b[1;32m<ipython-input-3-5d1c5c12c461>\u001b[0m in \u001b[0;36m<module>\u001b[1;34m\u001b[0m\n\u001b[0;32m      3\u001b[0m \u001b[1;31m# If we call it with a different number of arguments, the interpreter will show an error message.\u001b[0m\u001b[1;33m\u001b[0m\u001b[1;33m\u001b[0m\u001b[1;33m\u001b[0m\u001b[0m\n\u001b[0;32m      4\u001b[0m \u001b[1;33m\u001b[0m\u001b[0m\n\u001b[1;32m----> 5\u001b[1;33m \u001b[0mgreet\u001b[0m\u001b[1;33m(\u001b[0m\u001b[1;34m\"Monica\"\u001b[0m\u001b[1;33m)\u001b[0m    \u001b[1;31m# only one argument\u001b[0m\u001b[1;33m\u001b[0m\u001b[1;33m\u001b[0m\u001b[0m\n\u001b[0m",
      "\u001b[1;31mTypeError\u001b[0m: greet() missing 1 required positional argument: 'msg'"
     ]
    }
   ],
   "source": [
    "# Here, the function greet() has two parameters.\n",
    "# Since we have called this function with two arguments, it runs smoothly and we do not get any error.\n",
    "# If we call it with a different number of arguments, the interpreter will show an error message. \n",
    "\n",
    "greet(\"Monica\")    # only one argument"
   ]
  },
  {
   "cell_type": "code",
   "execution_count": 4,
   "metadata": {},
   "outputs": [],
   "source": [
    "# TypeError: greet() missing 1 required positional argument: 'msg'"
   ]
  },
  {
   "cell_type": "code",
   "execution_count": 5,
   "metadata": {},
   "outputs": [
    {
     "ename": "TypeError",
     "evalue": "greet() missing 2 required positional arguments: 'name' and 'msg'",
     "output_type": "error",
     "traceback": [
      "\u001b[1;31m---------------------------------------------------------------------------\u001b[0m",
      "\u001b[1;31mTypeError\u001b[0m                                 Traceback (most recent call last)",
      "\u001b[1;32m<ipython-input-5-e81866a17317>\u001b[0m in \u001b[0;36m<module>\u001b[1;34m\u001b[0m\n\u001b[1;32m----> 1\u001b[1;33m \u001b[0mgreet\u001b[0m\u001b[1;33m(\u001b[0m\u001b[1;33m)\u001b[0m   \u001b[1;31m# no arguments\u001b[0m\u001b[1;33m\u001b[0m\u001b[1;33m\u001b[0m\u001b[0m\n\u001b[0m",
      "\u001b[1;31mTypeError\u001b[0m: greet() missing 2 required positional arguments: 'name' and 'msg'"
     ]
    }
   ],
   "source": [
    "greet()   # no arguments"
   ]
  },
  {
   "cell_type": "code",
   "execution_count": 6,
   "metadata": {},
   "outputs": [],
   "source": [
    "# TypeError: greet() missing 2 required positional arguments: 'name' and 'msg'"
   ]
  },
  {
   "cell_type": "markdown",
   "metadata": {},
   "source": [
    "### -------------------- Variable Function Arguments ----------------------"
   ]
  },
  {
   "cell_type": "markdown",
   "metadata": {},
   "source": [
    "#### Up until now, functions had a fixed number of arguments. In Python, there are other ways to define a function that can take variable number of arguments."
   ]
  },
  {
   "cell_type": "markdown",
   "metadata": {},
   "source": [
    "##### Three different forms of this type are described below."
   ]
  },
  {
   "cell_type": "markdown",
   "metadata": {},
   "source": [
    "#### 1. Python Default Arguments"
   ]
  },
  {
   "cell_type": "markdown",
   "metadata": {},
   "source": [
    "#### 2. Python Keyword Arguments"
   ]
  },
  {
   "cell_type": "markdown",
   "metadata": {},
   "source": [
    "#### 3. Python Arbitrary Arguments"
   ]
  },
  {
   "cell_type": "markdown",
   "metadata": {},
   "source": [
    "### ------------------------ Python Default Arguments ------------------"
   ]
  },
  {
   "cell_type": "code",
   "execution_count": 8,
   "metadata": {},
   "outputs": [],
   "source": [
    "# Function arguments can have default values in Python.\n",
    "\n",
    "# We can provide a default value to an argument by using the assignment operator(=).\n",
    "# Here is an example."
   ]
  },
  {
   "cell_type": "code",
   "execution_count": 9,
   "metadata": {},
   "outputs": [
    {
     "name": "stdout",
     "output_type": "stream",
     "text": [
      "Hello jakir, Good Morning!\n",
      "Hello Saimun, How do you do?\n"
     ]
    }
   ],
   "source": [
    "def greet(name, msg=\"Good Morning!\"):\n",
    "    \"\"\"\n",
    "    This function greets to the peroson\n",
    "    with the provided message.\n",
    "    \n",
    "    If the message is not provided,\n",
    "    It defaluts to \"Good morning!\"\n",
    "    \"\"\"\n",
    "    \n",
    "    print(\"Hello\", name +', ' +msg)\n",
    "\n",
    "greet(\"jakir\")\n",
    "greet(\"Saimun\", \"How do you do?\")"
   ]
  },
  {
   "cell_type": "code",
   "execution_count": 17,
   "metadata": {},
   "outputs": [],
   "source": [
    "# In the function, the parameter (name) does not have a default value and is required(mandatory) during a call.\n",
    "\n",
    "# On the other hand, the parameter (msg) has a default value of \"Good Morning!\".\n",
    "# So, it is optional during a call. If a value is provided, It will overwrite the default value.\n",
    "\n",
    "# Any number of arguments in a function can have a default value. But once we have a default argument, all the arguments to its right must also have default values.\n",
    "\n",
    "# This means to say, non-default arguments cannot follow default arguments.\n",
    "# For example, if we had defined the function header above as:"
   ]
  },
  {
   "cell_type": "code",
   "execution_count": 16,
   "metadata": {},
   "outputs": [
    {
     "ename": "SyntaxError",
     "evalue": "non-default argument follows default argument (<ipython-input-16-9fa90d97c63c>, line 1)",
     "output_type": "error",
     "traceback": [
      "\u001b[1;36m  File \u001b[1;32m\"<ipython-input-16-9fa90d97c63c>\"\u001b[1;36m, line \u001b[1;32m1\u001b[0m\n\u001b[1;33m    def greet(msg = \"Good Morning!\", name):\u001b[0m\n\u001b[1;37m              ^\u001b[0m\n\u001b[1;31mSyntaxError\u001b[0m\u001b[1;31m:\u001b[0m non-default argument follows default argument\n"
     ]
    }
   ],
   "source": [
    "def greet(msg = \"Good Morning!\", name):\n",
    "    print(\"Hello\", name +', ' +msg)\n",
    "\n",
    "greet(\"jakir\")\n",
    "\n",
    "# We would get an error as:\n",
    "# SyntaxError: non-default argument follows default argument"
   ]
  },
  {
   "cell_type": "code",
   "execution_count": 18,
   "metadata": {},
   "outputs": [],
   "source": [
    "# ------------------- another code -------------------------------"
   ]
  },
  {
   "cell_type": "code",
   "execution_count": 19,
   "metadata": {},
   "outputs": [
    {
     "name": "stdout",
     "output_type": "stream",
     "text": [
      "Jams Mark studies in Fifth Standard\n"
     ]
    }
   ],
   "source": [
    "def student(firstname, lastname = \"Mark\", standard = \"Fifth\"):\n",
    "    print(firstname, lastname, 'studies in', standard, 'Standard')\n",
    "\n",
    "student('Jams')"
   ]
  },
  {
   "cell_type": "code",
   "execution_count": 20,
   "metadata": {},
   "outputs": [
    {
     "name": "stdout",
     "output_type": "stream",
     "text": [
      "Joe Come here!\n"
     ]
    }
   ],
   "source": [
    "def defaultArg(name, foo=\"Come here!\"):\n",
    "    print(name, foo)\n",
    "\n",
    "defaultArg('Joe')"
   ]
  },
  {
   "cell_type": "markdown",
   "metadata": {},
   "source": [
    "### ----------------------- Python Keyword Arguments ------------------"
   ]
  },
  {
   "cell_type": "code",
   "execution_count": 21,
   "metadata": {},
   "outputs": [],
   "source": [
    "# When we call a function with some values, these values get assigned to the arguments according to their position.\n",
    "\n",
    "# For example, in the above function greet(),\n",
    "# when we called it as greet(\"Bruce\", \"How do you do?\"), the value \"Bruce\" gets assigned to the argument name and similarly \"How do you do?\" to msg.\n",
    "\n",
    "# Python allows functions to be called using keyword arguments.\n",
    "# When we call functions in this way, the order (position) of the arguments can be changed.\n",
    "# Following calls to the above function are all valid and produce the same result."
   ]
  },
  {
   "cell_type": "code",
   "execution_count": 23,
   "metadata": {},
   "outputs": [
    {
     "name": "stdout",
     "output_type": "stream",
     "text": [
      "Hello Jack, How do you do?\n",
      "Hello jack, How do you do?\n",
      "Hello jack, How do you do?\n"
     ]
    }
   ],
   "source": [
    "# 2 keyword arguemts\n",
    "\n",
    "greet(name = \"Jack\", msg = \"How do you do?\")\n",
    "\n",
    "\n",
    "# 2 keyword arguemts (out of order)\n",
    "\n",
    "greet(msg = \"How do you do?\", name = \"jack\")\n",
    "\n",
    "\n",
    "# 1 positional, 1 keyword argument\n",
    "\n",
    "greet(\"jack\", msg = \"How do you do?\")"
   ]
  },
  {
   "cell_type": "code",
   "execution_count": 24,
   "metadata": {},
   "outputs": [
    {
     "ename": "SyntaxError",
     "evalue": "positional argument follows keyword argument (<ipython-input-24-77054aa18a1f>, line 4)",
     "output_type": "error",
     "traceback": [
      "\u001b[1;36m  File \u001b[1;32m\"<ipython-input-24-77054aa18a1f>\"\u001b[1;36m, line \u001b[1;32m4\u001b[0m\n\u001b[1;33m    greet(name=\"Jack\", \"How do you do?\")\u001b[0m\n\u001b[1;37m                       ^\u001b[0m\n\u001b[1;31mSyntaxError\u001b[0m\u001b[1;31m:\u001b[0m positional argument follows keyword argument\n"
     ]
    }
   ],
   "source": [
    "# As we can see, We can mix positional arguments with keyword arguments during a fuction call.\n",
    "# But we must keep in mind that keyword arguements must follow positional arguments.\n",
    "\n",
    "\n",
    "# Having a positional argument after keyword arguments will result in error. \n",
    "# For example, the function call as follows:\n",
    "\n",
    "greet(name=\"Jack\", \"How do you do?\")"
   ]
  },
  {
   "cell_type": "code",
   "execution_count": 26,
   "metadata": {},
   "outputs": [],
   "source": [
    "# ---------Calling functions without keyword arguments  ---------------"
   ]
  },
  {
   "cell_type": "code",
   "execution_count": 27,
   "metadata": {},
   "outputs": [
    {
     "name": "stdout",
     "output_type": "stream",
     "text": [
      "John Mark studies in Fifth Standard\n",
      "John Gates studies in Seventh Standard\n",
      "John Gates studies in Fifth Standard\n",
      "John Seventh studies in Fifth Standard\n"
     ]
    }
   ],
   "source": [
    "\n",
    "def student(firstname, lastname ='Mark', standard ='Fifth'):\n",
    " \n",
    "     print(firstname, lastname, 'studies in', standard, 'Standard')\n",
    "\n",
    "# 1 positional argument\n",
    "student('John') \n",
    " \n",
    "# 3 positional arguments                         \n",
    "student('John', 'Gates', 'Seventh')     \n",
    " \n",
    "# 2 positional arguments  \n",
    "student('John', 'Gates')                  \n",
    "student('John', 'Seventh')"
   ]
  },
  {
   "cell_type": "code",
   "execution_count": 28,
   "metadata": {},
   "outputs": [],
   "source": [
    "# ---------- Calling function with keyword arguments ------------------"
   ]
  },
  {
   "cell_type": "code",
   "execution_count": 29,
   "metadata": {},
   "outputs": [
    {
     "name": "stdout",
     "output_type": "stream",
     "text": [
      "John Mark studies in Fifth Standard\n",
      "John Mark studies in Seventh Standard\n",
      "John Gates studies in Fifth Standard\n"
     ]
    }
   ],
   "source": [
    "def student(firstname, lastname = 'Mark', standard = 'Fifth'):\n",
    "    print(firstname, lastname, 'studies in', standard, 'Standard')\n",
    "\n",
    "# 1 keyword argument\n",
    "\n",
    "student(firstname ='John')\n",
    "\n",
    "# 2 keyword arguments\n",
    "\n",
    "student(firstname = 'John', standard = 'Seventh')\n",
    "\n",
    "# 2 keyword arguments\n",
    "\n",
    "student(lastname = 'Gates', firstname = 'John')"
   ]
  },
  {
   "cell_type": "code",
   "execution_count": 30,
   "metadata": {},
   "outputs": [],
   "source": [
    "# --------------------- Some Invalid function calls --------------------"
   ]
  },
  {
   "cell_type": "code",
   "execution_count": 31,
   "metadata": {},
   "outputs": [
    {
     "ename": "SyntaxError",
     "evalue": "positional argument follows keyword argument (<ipython-input-31-3e71be5a9a65>, line 8)",
     "output_type": "error",
     "traceback": [
      "\u001b[1;36m  File \u001b[1;32m\"<ipython-input-31-3e71be5a9a65>\"\u001b[1;36m, line \u001b[1;32m8\u001b[0m\n\u001b[1;33m    student(firstname ='John', 'Seventh')\u001b[0m\n\u001b[1;37m                               ^\u001b[0m\n\u001b[1;31mSyntaxError\u001b[0m\u001b[1;31m:\u001b[0m positional argument follows keyword argument\n"
     ]
    }
   ],
   "source": [
    "\n",
    "def student(firstname, lastname ='Mark', standard ='Fifth'):\n",
    "     print(firstname, lastname, 'studies in', standard, 'Standard')\n",
    " \n",
    "# required argument missing\n",
    "\n",
    "student()                \n",
    " \n",
    "# non keyword argument after a keyword argument   \n",
    "\n",
    "student(firstname ='John', 'Seventh') \n",
    " \n",
    "# unknown keyword argument \n",
    "\n",
    "student(subject ='Maths') "
   ]
  },
  {
   "cell_type": "code",
   "execution_count": null,
   "metadata": {},
   "outputs": [],
   "source": []
  },
  {
   "cell_type": "markdown",
   "metadata": {},
   "source": [
    "### ----------------------- Python Arbitrary Arguments ---------------------"
   ]
  },
  {
   "cell_type": "code",
   "execution_count": 33,
   "metadata": {},
   "outputs": [],
   "source": [
    "# Sometimes, we do not know in advance the nubmer of arguments that will be passed into a function.\n",
    "# Python allows us to handle this kind of situation through function calls with an arbitrary number of arguments.\n",
    "\n",
    "# In the function definition, we use an asterisk (*) before the parameter name of denote this kind of argument.\n",
    "# Here is an example..."
   ]
  },
  {
   "cell_type": "code",
   "execution_count": 34,
   "metadata": {
    "scrolled": true
   },
   "outputs": [
    {
     "name": "stdout",
     "output_type": "stream",
     "text": [
      "Hello Monica\n",
      "Hello Jack\n",
      "Hello Jeo\n",
      "Hello John\n"
     ]
    }
   ],
   "source": [
    "def greet(*names):\n",
    "    \"\"\"This function greets all\n",
    "    the person in the names tuple.\"\"\"\n",
    "    \n",
    "    # names is a tuple with arguments\n",
    "    for name in names:\n",
    "        print(\"Hello\", name)\n",
    "        \n",
    "greet(\"Monica\", \"Jack\", \"Jeo\", \"John\")"
   ]
  },
  {
   "cell_type": "code",
   "execution_count": null,
   "metadata": {},
   "outputs": [],
   "source": []
  }
 ],
 "metadata": {
  "kernelspec": {
   "display_name": "Python 3",
   "language": "python",
   "name": "python3"
  },
  "language_info": {
   "codemirror_mode": {
    "name": "ipython",
    "version": 3
   },
   "file_extension": ".py",
   "mimetype": "text/x-python",
   "name": "python",
   "nbconvert_exporter": "python",
   "pygments_lexer": "ipython3",
   "version": "3.8.3"
  }
 },
 "nbformat": 4,
 "nbformat_minor": 4
}
