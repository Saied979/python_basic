{
 "cells": [
  {
   "cell_type": "markdown",
   "metadata": {},
   "source": [
    "## ----------------------- Python Tuples ------------------------"
   ]
  },
  {
   "cell_type": "code",
   "execution_count": 1,
   "metadata": {},
   "outputs": [],
   "source": [
    "# A Tuple is a collection which is (ordered and unchangeable).\n",
    "# In Python tuples are written with round breckets."
   ]
  },
  {
   "cell_type": "code",
   "execution_count": 3,
   "metadata": {},
   "outputs": [
    {
     "name": "stdout",
     "output_type": "stream",
     "text": [
      "('Dell', 'Asus', 'Hp')\n",
      "(1, 2, 3, 4, 5)\n"
     ]
    }
   ],
   "source": [
    "# Create a Tuple:\n",
    "\n",
    "tup1 = (\"Dell\", \"Asus\", \"Hp\")\n",
    "tup2 = (1, 2, 3, 4, 5)\n",
    "\n",
    "print(tup1)\n",
    "print(tup2)"
   ]
  },
  {
   "cell_type": "markdown",
   "metadata": {},
   "source": [
    "### ---------------------- Accessing values in Tuples --------------------"
   ]
  },
  {
   "cell_type": "code",
   "execution_count": 5,
   "metadata": {},
   "outputs": [
    {
     "name": "stdout",
     "output_type": "stream",
     "text": [
      "Asus\n"
     ]
    }
   ],
   "source": [
    "# You can access tuple items by referring to the index number, inside square brackets.\n",
    "\n",
    "tup1 = (\"Dell\", \"Asus\", \"Hp\")\n",
    "\n",
    "print(tup1[1])"
   ]
  },
  {
   "cell_type": "code",
   "execution_count": 6,
   "metadata": {},
   "outputs": [
    {
     "name": "stdout",
     "output_type": "stream",
     "text": [
      "tup1[0]:  Dell\n",
      "tup2[1:4]:  (2, 3, 4)\n"
     ]
    }
   ],
   "source": [
    "tup1 = (\"Dell\", \"Asus\", \"Hp\")\n",
    "tup2 = (1, 2, 3, 4, 5)\n",
    "\n",
    "print(\"tup1[0]: \", tup1[0])\n",
    "print(\"tup2[1:4]: \", tup2[1:4]) # here 4 is a value number\n"
   ]
  },
  {
   "cell_type": "code",
   "execution_count": 7,
   "metadata": {},
   "outputs": [
    {
     "name": "stdout",
     "output_type": "stream",
     "text": [
      "Hp\n"
     ]
    }
   ],
   "source": [
    "# ------------ Negative Indexing --------------------\n",
    "\n",
    "# Negative indexing means beginning from the end, -1 refers to the last item, -2 refers to the second last item etc\n",
    "\n",
    "tup1 = (\"Dell\", \"Asus\", \"Hp\")  # positive   0   1    2    3   4   5\n",
    "print(tup1[-1])                # Negative  -6  -5   -4   -3  -2  -1"
   ]
  },
  {
   "cell_type": "markdown",
   "metadata": {},
   "source": [
    "### ---------------------------- Range of Indexes ----------------------------"
   ]
  },
  {
   "cell_type": "code",
   "execution_count": 9,
   "metadata": {},
   "outputs": [
    {
     "name": "stdout",
     "output_type": "stream",
     "text": [
      "('cherry', 'orange', 'kiwi')\n"
     ]
    }
   ],
   "source": [
    "### You can specify a range of indexes by specifying where to start and where to end the range.\n",
    "\n",
    "# When specifying a range, the return value will be a new tuple with the specified items.\n",
    "\n",
    "tup3 = (\"apple\", \"banana\", \"cherry\", \"orange\", \"kiwi\", \"melon\", \"mango\")\n",
    "print(tup3[2:5])"
   ]
  },
  {
   "cell_type": "code",
   "execution_count": 10,
   "metadata": {},
   "outputs": [],
   "source": [
    "#---------------- Range of Negative Indexes ---------------\n",
    "\n",
    "# Specify negative indexes if you want to start the search from the end of the tuple.."
   ]
  },
  {
   "cell_type": "code",
   "execution_count": 11,
   "metadata": {},
   "outputs": [
    {
     "name": "stdout",
     "output_type": "stream",
     "text": [
      "('cherry', 'orange', 'kiwi', 'melon')\n"
     ]
    }
   ],
   "source": [
    "tup3 = (\"apple\", \"banana\", \"cherry\", \"orange\", \"kiwi\", \"melon\", \"mango\")\n",
    "print(tup3[-5:-1])\n",
    "\n",
    "# Negative  -6  -5   -4   -3  -2  -1"
   ]
  },
  {
   "cell_type": "markdown",
   "metadata": {},
   "source": [
    "### ----------------------- Change Tuple Values --------------------------"
   ]
  },
  {
   "cell_type": "code",
   "execution_count": 12,
   "metadata": {},
   "outputs": [],
   "source": [
    "# Once a tuple is created, you cannot changes its values.\n",
    "# Tuples are unchangeable, or immutable as it also is called.\n",
    "\n",
    "# But there is a workaround. You can convert the tuple into a list, change the list, and convert the list back into a tuple."
   ]
  },
  {
   "cell_type": "code",
   "execution_count": 13,
   "metadata": {},
   "outputs": [
    {
     "name": "stdout",
     "output_type": "stream",
     "text": [
      "('apple', 'kiwi', 'cherry', 'orange', 'melon', 'mango')\n"
     ]
    }
   ],
   "source": [
    "#Convert the tuple into a list to be able to change it\n",
    "\n",
    "t = (\"apple\", \"banana\", \"cherry\", \"orange\", \"melon\", \"mango\")\n",
    "x = list(t)\n",
    "x[1] = \"kiwi\"\n",
    "t = tuple(x)\n",
    "print(t)"
   ]
  },
  {
   "cell_type": "markdown",
   "metadata": {},
   "source": [
    "### --------------------- Iterating Through a Tuple ----------------------"
   ]
  },
  {
   "cell_type": "code",
   "execution_count": 14,
   "metadata": {},
   "outputs": [
    {
     "name": "stdout",
     "output_type": "stream",
     "text": [
      "apple\n",
      "banana\n",
      "cherry\n",
      "orange\n",
      "kiwi\n",
      "melon\n",
      "mango\n"
     ]
    }
   ],
   "source": [
    "# You can loop through the tuple items by using a (for) loop..\n",
    "\n",
    "tup3 = (\"apple\", \"banana\", \"cherry\", \"orange\", \"kiwi\", \"melon\", \"mango\")\n",
    "for item in tup3:\n",
    "    print(item)\n"
   ]
  },
  {
   "cell_type": "markdown",
   "metadata": {},
   "source": [
    "### ---------------------- Check if Item Exists ---------------------------"
   ]
  },
  {
   "cell_type": "code",
   "execution_count": 15,
   "metadata": {},
   "outputs": [],
   "source": [
    "# To determine if a specified item is present in a tuple use the (in) keyword."
   ]
  },
  {
   "cell_type": "code",
   "execution_count": 16,
   "metadata": {},
   "outputs": [
    {
     "name": "stdout",
     "output_type": "stream",
     "text": [
      "Yes,'apple' is in the fruits tuple\n"
     ]
    }
   ],
   "source": [
    "tup3 = (\"apple\", \"banana\", \"cherry\", \"orange\", \"kiwi\", \"melon\", \"mango\")\n",
    "if \"apple\" in tup3:\n",
    "    print(\"Yes,'apple' is in the fruits tuple\")"
   ]
  },
  {
   "cell_type": "code",
   "execution_count": 17,
   "metadata": {},
   "outputs": [
    {
     "name": "stdout",
     "output_type": "stream",
     "text": [
      "7\n"
     ]
    }
   ],
   "source": [
    "# ------------- Tuple Length ---------------\n",
    "# To determine how many itmes a tuple has, use the len() method..\n",
    "\n",
    "tup3 = (\"apple\", \"banana\", \"cherry\", \"orange\", \"kiwi\", \"melon\", \"mango\")\n",
    "print(len(tup3))"
   ]
  },
  {
   "cell_type": "markdown",
   "metadata": {},
   "source": []
  },
  {
   "cell_type": "code",
   "execution_count": 19,
   "metadata": {},
   "outputs": [
    {
     "name": "stdout",
     "output_type": "stream",
     "text": [
      "<class 'tuple'>\n"
     ]
    }
   ],
   "source": [
    "# ---------- Create Tuple With One Item -----------------\n",
    "#To create a tuple with only one item, you have to add a comma after the item, otherwise Python will not recognize it as a tuple.\n",
    "\n",
    "# One item tuple, remember the commma:\n",
    "\n",
    "thistuple = (\"apple\",)\n",
    "print(type(thistuple))"
   ]
  },
  {
   "cell_type": "code",
   "execution_count": 20,
   "metadata": {},
   "outputs": [
    {
     "name": "stdout",
     "output_type": "stream",
     "text": [
      "<class 'str'>\n"
     ]
    }
   ],
   "source": [
    "# Not a tuple\n",
    "\n",
    "thistuple = (\"apple\")\n",
    "print(type(thistuple))"
   ]
  },
  {
   "cell_type": "markdown",
   "metadata": {},
   "source": [
    "### -------------------- Remove Items ---------------------------"
   ]
  },
  {
   "cell_type": "code",
   "execution_count": 23,
   "metadata": {},
   "outputs": [
    {
     "ename": "NameError",
     "evalue": "name 'tup1' is not defined",
     "output_type": "error",
     "traceback": [
      "\u001b[1;31m---------------------------------------------------------------------------\u001b[0m",
      "\u001b[1;31mNameError\u001b[0m                                 Traceback (most recent call last)",
      "\u001b[1;32m<ipython-input-23-a59cb8c5aa08>\u001b[0m in \u001b[0;36m<module>\u001b[1;34m\u001b[0m\n\u001b[0;32m      7\u001b[0m \u001b[0mtup1\u001b[0m \u001b[1;33m=\u001b[0m \u001b[1;33m(\u001b[0m\u001b[1;34m\"Dell\"\u001b[0m\u001b[1;33m,\u001b[0m \u001b[1;34m\"Asus\"\u001b[0m\u001b[1;33m,\u001b[0m \u001b[1;34m\"Hp\"\u001b[0m\u001b[1;33m)\u001b[0m\u001b[1;33m\u001b[0m\u001b[1;33m\u001b[0m\u001b[0m\n\u001b[0;32m      8\u001b[0m \u001b[1;32mdel\u001b[0m \u001b[0mtup1\u001b[0m\u001b[1;33m\u001b[0m\u001b[1;33m\u001b[0m\u001b[0m\n\u001b[1;32m----> 9\u001b[1;33m \u001b[0mprint\u001b[0m\u001b[1;33m(\u001b[0m\u001b[0mtup1\u001b[0m\u001b[1;33m)\u001b[0m\u001b[1;33m\u001b[0m\u001b[1;33m\u001b[0m\u001b[0m\n\u001b[0m",
      "\u001b[1;31mNameError\u001b[0m: name 'tup1' is not defined"
     ]
    }
   ],
   "source": [
    "#  You cannot remove items in a tuple.\n",
    "# Tuples are unchangeable, so you cannot remove items from it, but you can delete the tuple completely\n",
    "\n",
    "# The (del) keyword can delete the tuple completely..\n",
    "\n",
    "\n",
    "tup1 = (\"Dell\", \"Asus\", \"Hp\")\n",
    "del tup1\n",
    "print(tup1) #this will raise an error because the tuple no longer exists"
   ]
  },
  {
   "cell_type": "markdown",
   "metadata": {},
   "source": [
    "### --------------------------- Join Two Tuples ----------------------------"
   ]
  },
  {
   "cell_type": "code",
   "execution_count": 24,
   "metadata": {},
   "outputs": [
    {
     "name": "stdout",
     "output_type": "stream",
     "text": [
      "('a', 'b', 'c', 1, 2, 3)\n"
     ]
    }
   ],
   "source": [
    "# To join two or more tuples you can use the + operator..\n",
    "\n",
    "tuple1 = (\"a\", \"b\", \"c\")\n",
    "tuple2 = (1, 2, 3)\n",
    "\n",
    "tuple3 = tuple1 + tuple2\n",
    "print(tuple3)"
   ]
  },
  {
   "cell_type": "markdown",
   "metadata": {},
   "source": [
    "### ---------------------- The tuple() Constructor ---------------------"
   ]
  },
  {
   "cell_type": "code",
   "execution_count": 1,
   "metadata": {},
   "outputs": [
    {
     "name": "stdout",
     "output_type": "stream",
     "text": [
      "('apple', 'banana', 'cherry')\n"
     ]
    }
   ],
   "source": [
    "# It is also possible to use the tuple() constructor to make a tuple.\n",
    "\n",
    "thistuple = tuple((\"apple\", \"banana\", \"cherry\")) # use double round-brackets\n",
    "print(thistuple)"
   ]
  },
  {
   "cell_type": "markdown",
   "metadata": {},
   "source": [
    "### ------------------------- Tuple Count() -------------------------------"
   ]
  },
  {
   "cell_type": "code",
   "execution_count": 5,
   "metadata": {},
   "outputs": [
    {
     "name": "stdout",
     "output_type": "stream",
     "text": [
      "2\n"
     ]
    }
   ],
   "source": [
    "#The count() method returns the number of times a specified value appears in the tuple\n",
    "\n",
    "thistuple = (1, 3, 4, 5, 6, 5, 3, 7, 8, 2, 4, 9, 1)\n",
    "x = thistuple.count(4)\n",
    "print(x)\n"
   ]
  },
  {
   "cell_type": "markdown",
   "metadata": {},
   "source": [
    "### ------------------------ Tuple index() ----------------------------"
   ]
  },
  {
   "cell_type": "code",
   "execution_count": 6,
   "metadata": {},
   "outputs": [
    {
     "name": "stdout",
     "output_type": "stream",
     "text": [
      "11\n"
     ]
    }
   ],
   "source": [
    "# The index() method finds the first occurrence of the specified value.\n",
    "\n",
    "thistuple = (1, 3, 4, 5, 6, 5, 3, 7, 8, 2, 4, 9, 1)\n",
    "x = thistuple.index(9)\n",
    "print(x)"
   ]
  },
  {
   "cell_type": "code",
   "execution_count": null,
   "metadata": {},
   "outputs": [],
   "source": []
  },
  {
   "cell_type": "markdown",
   "metadata": {},
   "source": [
    "### ----- How to iterate through a list of tuples in Python -----"
   ]
  },
  {
   "cell_type": "code",
   "execution_count": 9,
   "metadata": {},
   "outputs": [],
   "source": [
    "# Call enumerate(tuple_list) to return a list of the indices and values of each tuple in tuple_list. \n",
    "# Use the for-loop syntax for index, tuple in enumerate_object to iterate through the list of tuples in enumerate_object. "
   ]
  },
  {
   "cell_type": "code",
   "execution_count": 1,
   "metadata": {},
   "outputs": [
    {
     "name": "stdout",
     "output_type": "stream",
     "text": [
      "Betty 45\n",
      "John 84\n",
      "Malik 34\n",
      "Jose 20\n"
     ]
    }
   ],
   "source": [
    "list_of_tuples = [(\"Betty\", 45), (\"John\", 84), (\"Malik\", \"34\"), (\"Jose\", 20)]\n",
    "\n",
    "for index, tuple in enumerate(list_of_tuples):\n",
    "    element_one = tuple[0]\n",
    "    element_two = tuple[1]\n",
    "    print(element_one, element_two)"
   ]
  },
  {
   "cell_type": "code",
   "execution_count": null,
   "metadata": {},
   "outputs": [],
   "source": []
  }
 ],
 "metadata": {
  "kernelspec": {
   "display_name": "Python 3",
   "language": "python",
   "name": "python3"
  },
  "language_info": {
   "codemirror_mode": {
    "name": "ipython",
    "version": 3
   },
   "file_extension": ".py",
   "mimetype": "text/x-python",
   "name": "python",
   "nbconvert_exporter": "python",
   "pygments_lexer": "ipython3",
   "version": "3.8.3"
  }
 },
 "nbformat": 4,
 "nbformat_minor": 4
}
