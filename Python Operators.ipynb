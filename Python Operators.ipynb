{
 "cells": [
  {
   "cell_type": "markdown",
   "metadata": {},
   "source": [
    "## ---------------------------- Python Operators -----------------------------"
   ]
  },
  {
   "cell_type": "code",
   "execution_count": 1,
   "metadata": {},
   "outputs": [],
   "source": [
    "# Operators are used to perform operations on variables and values...\n",
    "# Operators Name:\n",
    "\n",
    "# Arithmetic operators\n",
    "# Assignment operators\n",
    "# Comparison operators\n",
    "# Logical operators\n",
    "# Identity operators\n",
    "# Membership operators\n",
    "# Bitwise operators"
   ]
  },
  {
   "cell_type": "markdown",
   "metadata": {},
   "source": [
    "### -------------- Python Arithmetic Operators ----------------"
   ]
  },
  {
   "cell_type": "code",
   "execution_count": 4,
   "metadata": {},
   "outputs": [],
   "source": [
    "# Arithmetic operators are used with numeric values to perform common mathematical operations:\n",
    "\n",
    "# (+)  Addition        = x + y\n",
    "# (-)  Subtraction \n",
    "# (*)  Multiplication \n",
    "# (/)  Division\n",
    "# (%)  Modulus         = x % y\n",
    "# (**) Exponentiation  = x ** y\n",
    "# (//) Floor division  = x // y"
   ]
  },
  {
   "cell_type": "code",
   "execution_count": 5,
   "metadata": {},
   "outputs": [
    {
     "name": "stdout",
     "output_type": "stream",
     "text": [
      "6\n"
     ]
    }
   ],
   "source": [
    "# (+)  Addition   \n",
    "\n",
    "x = 4\n",
    "y = 2\n",
    "print(x+y)"
   ]
  },
  {
   "cell_type": "code",
   "execution_count": 6,
   "metadata": {},
   "outputs": [
    {
     "name": "stdout",
     "output_type": "stream",
     "text": [
      "1\n"
     ]
    }
   ],
   "source": [
    "# (-)  Subtraction\n",
    "\n",
    "x = 7\n",
    "y = 8\n",
    "print(y - x)"
   ]
  },
  {
   "cell_type": "code",
   "execution_count": 7,
   "metadata": {},
   "outputs": [
    {
     "name": "stdout",
     "output_type": "stream",
     "text": [
      "27\n"
     ]
    }
   ],
   "source": [
    "# (*)  Multiplication\n",
    "\n",
    "x = 9\n",
    "y = 3\n",
    "print(x * y)"
   ]
  },
  {
   "cell_type": "code",
   "execution_count": 8,
   "metadata": {},
   "outputs": [
    {
     "name": "stdout",
     "output_type": "stream",
     "text": [
      "3.0\n"
     ]
    }
   ],
   "source": [
    "# (/)  Division\n",
    "\n",
    "x = 12\n",
    "y = 4\n",
    "print(x / y)"
   ]
  },
  {
   "cell_type": "code",
   "execution_count": 9,
   "metadata": {},
   "outputs": [
    {
     "name": "stdout",
     "output_type": "stream",
     "text": [
      "1\n"
     ]
    }
   ],
   "source": [
    "# (%)  Modulus\n",
    "\n",
    "x = 13\n",
    "y = 3\n",
    "print(x % y)"
   ]
  },
  {
   "cell_type": "code",
   "execution_count": 10,
   "metadata": {},
   "outputs": [
    {
     "name": "stdout",
     "output_type": "stream",
     "text": [
      "81\n"
     ]
    }
   ],
   "source": [
    "# (**) Exponentiation\n",
    "\n",
    "x = 3\n",
    "y = 4\n",
    "print(x ** y) # same as 3*3*3*3"
   ]
  },
  {
   "cell_type": "code",
   "execution_count": 11,
   "metadata": {},
   "outputs": [
    {
     "name": "stdout",
     "output_type": "stream",
     "text": [
      "8\n"
     ]
    }
   ],
   "source": [
    "# (//) Floor division\n",
    "\n",
    "x = 17\n",
    "y = 2\n",
    "print(x // y)  # the floor division // rounds the result down to the nearest whole number"
   ]
  },
  {
   "cell_type": "code",
   "execution_count": 12,
   "metadata": {},
   "outputs": [
    {
     "name": "stdout",
     "output_type": "stream",
     "text": [
      "4\n"
     ]
    }
   ],
   "source": [
    "#(//) Floor division\n",
    "\n",
    "x = 17\n",
    "y = 4\n",
    "print(x // y)  # the floor division // rounds the result down to the nearest whole number"
   ]
  },
  {
   "cell_type": "markdown",
   "metadata": {},
   "source": [
    "### --------------- Python Assignment Operators --------------------"
   ]
  },
  {
   "cell_type": "code",
   "execution_count": 13,
   "metadata": {},
   "outputs": [],
   "source": [
    "# Assignment operators are used to assign values to variables\n",
    "\n",
    "# Operator -\n",
    "# (=)   x = 5     x = 5\n",
    "# +=    x += 5    x = x + 3\n",
    "# same as (-=),(*=), (/=), (%=), (//=), (**=),(&=), (|=), (^=), (>>=), (<<=)"
   ]
  },
  {
   "cell_type": "code",
   "execution_count": 14,
   "metadata": {},
   "outputs": [
    {
     "name": "stdout",
     "output_type": "stream",
     "text": [
      "11\n"
     ]
    }
   ],
   "source": [
    "x = 5\n",
    "x += 6\n",
    "print(x)"
   ]
  },
  {
   "cell_type": "code",
   "execution_count": 15,
   "metadata": {},
   "outputs": [
    {
     "name": "stdout",
     "output_type": "stream",
     "text": [
      "1\n"
     ]
    }
   ],
   "source": [
    "x = 7\n",
    "x %= 3\n",
    "print(x)"
   ]
  },
  {
   "cell_type": "code",
   "execution_count": 16,
   "metadata": {},
   "outputs": [
    {
     "name": "stdout",
     "output_type": "stream",
     "text": [
      "4\n"
     ]
    }
   ],
   "source": [
    "x = 9\n",
    "x //= 2\n",
    "print(x)"
   ]
  },
  {
   "cell_type": "code",
   "execution_count": 17,
   "metadata": {},
   "outputs": [
    {
     "name": "stdout",
     "output_type": "stream",
     "text": [
      "729\n"
     ]
    }
   ],
   "source": [
    "x = 9\n",
    "x **= 3\n",
    "print(x) # 9*9*9"
   ]
  },
  {
   "cell_type": "code",
   "execution_count": null,
   "metadata": {},
   "outputs": [],
   "source": []
  },
  {
   "cell_type": "markdown",
   "metadata": {},
   "source": [
    "### ------------------------- Python Comparison Operators ------------------"
   ]
  },
  {
   "cell_type": "code",
   "execution_count": 18,
   "metadata": {},
   "outputs": [],
   "source": [
    "# Comparison operators are used to compare two values\n",
    "\n",
    "# (==)  Equal              -       x == y\n",
    "# (!=)  Not Equal          -       x != y\n",
    "# (>)   Greater than       -       x > y\n",
    "# (<)   Less than          -       x < y\n",
    "# (>=)  Greater than or equal to - x >= y \n",
    "# (<=)  Less than or equal to    - x <= y"
   ]
  },
  {
   "cell_type": "code",
   "execution_count": 19,
   "metadata": {},
   "outputs": [
    {
     "name": "stdout",
     "output_type": "stream",
     "text": [
      "False\n"
     ]
    }
   ],
   "source": [
    "# (==)  Equal \n",
    "\n",
    "x = 10\n",
    "y = 20\n",
    "\n",
    "print(x == y) # return False because 10 is not equal to 20"
   ]
  },
  {
   "cell_type": "code",
   "execution_count": 20,
   "metadata": {},
   "outputs": [
    {
     "name": "stdout",
     "output_type": "stream",
     "text": [
      "True\n"
     ]
    }
   ],
   "source": [
    "# (!=)  Not Equal \n",
    "\n",
    "x = 8\n",
    "y = 9\n",
    "\n",
    "print(x != y) # Here Returns True because 8 is not equal to 9"
   ]
  },
  {
   "cell_type": "code",
   "execution_count": 21,
   "metadata": {},
   "outputs": [
    {
     "name": "stdout",
     "output_type": "stream",
     "text": [
      "True\n"
     ]
    }
   ],
   "source": [
    "# (>)   Greater than \n",
    "\n",
    "x = 6\n",
    "y = 5\n",
    "\n",
    "print(x > y) # Here Returns True because 6 is greater than 5"
   ]
  },
  {
   "cell_type": "code",
   "execution_count": 22,
   "metadata": {},
   "outputs": [
    {
     "name": "stdout",
     "output_type": "stream",
     "text": [
      "False\n"
     ]
    }
   ],
   "source": [
    "# (<)   Less than \n",
    "\n",
    "x = 10\n",
    "y = 9\n",
    "\n",
    "print(x < y) # here Returns False because 10 is not less than 9"
   ]
  },
  {
   "cell_type": "code",
   "execution_count": 23,
   "metadata": {},
   "outputs": [
    {
     "name": "stdout",
     "output_type": "stream",
     "text": [
      "True\n"
     ]
    }
   ],
   "source": [
    "# (>=)  Greater than or equal to \n",
    "\n",
    "x = 9\n",
    "y = 7\n",
    "\n",
    "print(x >= y)  # here returns True because 9 is greater, or equal, to 7"
   ]
  },
  {
   "cell_type": "code",
   "execution_count": 24,
   "metadata": {},
   "outputs": [
    {
     "name": "stdout",
     "output_type": "stream",
     "text": [
      "False\n"
     ]
    }
   ],
   "source": [
    "# (<=)  Less than or equal to\n",
    "\n",
    "x = 8\n",
    "y = 7\n",
    "\n",
    "print(x <= y) # here returns False because 8 is neither less than or equal to 7"
   ]
  },
  {
   "cell_type": "code",
   "execution_count": null,
   "metadata": {},
   "outputs": [],
   "source": []
  },
  {
   "cell_type": "markdown",
   "metadata": {},
   "source": [
    "### ---------------------- Python Logical Operators -------------------------"
   ]
  },
  {
   "cell_type": "code",
   "execution_count": 26,
   "metadata": {},
   "outputs": [],
   "source": [
    "# Logical operators are used to combine conditional statements\n",
    "\n",
    "# and    \t Returns True if both statements are true          x < 4 and  x < 10\n",
    "\n",
    "# or     \t Returns True if one of the statements is true     x < 5 or x < 4\n",
    "\n",
    "# not    \t Reverse the result, returns False if the result is true     not(x < 5 and x < 10)"
   ]
  },
  {
   "cell_type": "code",
   "execution_count": 27,
   "metadata": {},
   "outputs": [
    {
     "name": "stdout",
     "output_type": "stream",
     "text": [
      "True\n"
     ]
    }
   ],
   "source": [
    "# and    \t Returns True if both statements are true\n",
    "\n",
    "x = 6\n",
    "\n",
    "print(x > 4 and x < 10) "
   ]
  },
  {
   "cell_type": "code",
   "execution_count": 28,
   "metadata": {},
   "outputs": [
    {
     "name": "stdout",
     "output_type": "stream",
     "text": [
      "True\n"
     ]
    }
   ],
   "source": [
    "# or     \t Returns True if one of the statements is true \n",
    "\n",
    "x = 9\n",
    "\n",
    "print(x > 8 or x < 10)"
   ]
  },
  {
   "cell_type": "code",
   "execution_count": 31,
   "metadata": {},
   "outputs": [
    {
     "name": "stdout",
     "output_type": "stream",
     "text": [
      "False\n"
     ]
    }
   ],
   "source": [
    "# not    \t Reverse the result, returns False if the result is true\n",
    "\n",
    "x = 5\n",
    "\n",
    "print(not(x > 3 and x < 10))"
   ]
  },
  {
   "cell_type": "code",
   "execution_count": 33,
   "metadata": {},
   "outputs": [
    {
     "name": "stdout",
     "output_type": "stream",
     "text": [
      "True\n"
     ]
    }
   ],
   "source": [
    "x = 5\n",
    "\n",
    "print(not(x > 10 and x < 3))  # returns True because not is used to reverse the result"
   ]
  },
  {
   "cell_type": "code",
   "execution_count": null,
   "metadata": {},
   "outputs": [],
   "source": []
  },
  {
   "cell_type": "markdown",
   "metadata": {},
   "source": [
    "### --------------------- Python Identity Operators ------------------------"
   ]
  },
  {
   "cell_type": "code",
   "execution_count": 2,
   "metadata": {},
   "outputs": [],
   "source": [
    "# Identity operators are used to campare the objects, not if thay are equal.\n",
    "# but if they are actually the same object, with the same memory location..\n",
    "\n",
    "# (is)     - Returns True if both variables are the same object    -- x is y\n",
    "\n",
    "# (is not) - Returns True if both varibales are not the same object  -- x is not y"
   ]
  },
  {
   "cell_type": "code",
   "execution_count": 3,
   "metadata": {},
   "outputs": [
    {
     "name": "stdout",
     "output_type": "stream",
     "text": [
      "True\n"
     ]
    }
   ],
   "source": [
    "# (is)     - Returns True if both variables are the same object...\n",
    "\n",
    "\n",
    "x = [\"Dell\", \"Asus\"]\n",
    "y = [\"Dell\", \"Asus\"]\n",
    "z = x \n",
    "\n",
    "print(x is z)  # returns True because z is the same object as z"
   ]
  },
  {
   "cell_type": "code",
   "execution_count": 4,
   "metadata": {},
   "outputs": [
    {
     "name": "stdout",
     "output_type": "stream",
     "text": [
      "False\n"
     ]
    }
   ],
   "source": [
    "print(x is y) \n",
    "\n",
    "# returns False because x is not the same object as y, even if they have the same content"
   ]
  },
  {
   "cell_type": "code",
   "execution_count": 5,
   "metadata": {},
   "outputs": [
    {
     "name": "stdout",
     "output_type": "stream",
     "text": [
      "True\n"
     ]
    }
   ],
   "source": [
    "print(x == y)\n",
    "\n",
    "# to demonstrate the difference between \"is\" and \"==\": this comparison returns True because x is equal to y"
   ]
  },
  {
   "cell_type": "code",
   "execution_count": 6,
   "metadata": {},
   "outputs": [
    {
     "name": "stdout",
     "output_type": "stream",
     "text": [
      "False\n"
     ]
    }
   ],
   "source": [
    "# (is not) - Returns True if both varibales are not the same object\n",
    "\n",
    "x = [\"Dell\", \"Asus\"]\n",
    "y = [\"Dell\", \"Asus\"]\n",
    "z = x \n",
    "\n",
    "print(x is not z)  # returns False because z is the same object as x"
   ]
  },
  {
   "cell_type": "code",
   "execution_count": 8,
   "metadata": {},
   "outputs": [
    {
     "name": "stdout",
     "output_type": "stream",
     "text": [
      "True\n"
     ]
    }
   ],
   "source": [
    "print(x is not y)\n",
    "\n",
    "# returns True because x is not the same object as y, even if they have the same content"
   ]
  },
  {
   "cell_type": "code",
   "execution_count": 9,
   "metadata": {},
   "outputs": [
    {
     "name": "stdout",
     "output_type": "stream",
     "text": [
      "False\n"
     ]
    }
   ],
   "source": [
    "print(x != y)\n",
    "\n",
    "# to demonstrate the difference between \"is not\" and \"!=\": this comparison returns False because x is equal to y"
   ]
  },
  {
   "cell_type": "code",
   "execution_count": null,
   "metadata": {},
   "outputs": [],
   "source": []
  },
  {
   "cell_type": "markdown",
   "metadata": {},
   "source": [
    "### ----------------- Python Membership Operators -------------------"
   ]
  },
  {
   "cell_type": "code",
   "execution_count": 10,
   "metadata": {},
   "outputs": [],
   "source": [
    "# Membership operators are used to test if a sequence is presented in an object\n",
    "\n",
    "# (in)    - Returns True if a sequence with the specified value is present in the object       --  x in y\n",
    "\n",
    "# (not in) - Returns True if a sequence with the specified value is not present in the object  -- x not in y"
   ]
  },
  {
   "cell_type": "code",
   "execution_count": 11,
   "metadata": {},
   "outputs": [
    {
     "name": "stdout",
     "output_type": "stream",
     "text": [
      "True\n"
     ]
    }
   ],
   "source": [
    "# (in)    - Returns True if a sequence with the specified value is present in the object\n",
    "\n",
    "x = [\"Dell\", \"Apple\", \"Asus\"]\n",
    "print(\"Apple\" in x)"
   ]
  },
  {
   "cell_type": "code",
   "execution_count": 12,
   "metadata": {},
   "outputs": [
    {
     "name": "stdout",
     "output_type": "stream",
     "text": [
      "True\n"
     ]
    }
   ],
   "source": [
    "# (not in) - Returns True if a sequence with the specified value is not present in the object\n",
    "\n",
    "x = [\"Dell\", \"Apple\", \"Asus\"]\n",
    "print(\"Hp\" not in x)"
   ]
  },
  {
   "cell_type": "code",
   "execution_count": 13,
   "metadata": {},
   "outputs": [
    {
     "name": "stdout",
     "output_type": "stream",
     "text": [
      "False\n"
     ]
    }
   ],
   "source": [
    "print(\"Dell\" not in x)"
   ]
  },
  {
   "cell_type": "code",
   "execution_count": null,
   "metadata": {},
   "outputs": [],
   "source": []
  },
  {
   "cell_type": "markdown",
   "metadata": {},
   "source": [
    "### --------------- Some other operator and code -------------------"
   ]
  },
  {
   "cell_type": "code",
   "execution_count": 14,
   "metadata": {},
   "outputs": [
    {
     "name": "stdout",
     "output_type": "stream",
     "text": [
      "7\n"
     ]
    }
   ],
   "source": [
    "# Unary Operator\n",
    "\n",
    "n = 7\n",
    "print(n)"
   ]
  },
  {
   "cell_type": "code",
   "execution_count": 15,
   "metadata": {},
   "outputs": [
    {
     "name": "stdout",
     "output_type": "stream",
     "text": [
      "-7\n"
     ]
    }
   ],
   "source": [
    "print(-n)"
   ]
  },
  {
   "cell_type": "code",
   "execution_count": 16,
   "metadata": {},
   "outputs": [
    {
     "name": "stdout",
     "output_type": "stream",
     "text": [
      "-7\n"
     ]
    }
   ],
   "source": [
    "n = -n\n",
    "print(n)"
   ]
  },
  {
   "cell_type": "code",
   "execution_count": null,
   "metadata": {},
   "outputs": [],
   "source": []
  },
  {
   "cell_type": "code",
   "execution_count": 17,
   "metadata": {},
   "outputs": [],
   "source": [
    "# Operator and Control Structure"
   ]
  },
  {
   "cell_type": "code",
   "execution_count": 18,
   "metadata": {},
   "outputs": [
    {
     "name": "stdout",
     "output_type": "stream",
     "text": [
      "True\n"
     ]
    }
   ],
   "source": [
    "if 8 > 7:\n",
    "    print(\"True\")"
   ]
  },
  {
   "cell_type": "code",
   "execution_count": 19,
   "metadata": {},
   "outputs": [
    {
     "name": "stdout",
     "output_type": "stream",
     "text": [
      "A is bigger then B\n"
     ]
    }
   ],
   "source": [
    "# --------- Another Code --------\n",
    "\n",
    "a = 10\n",
    "b = 9\n",
    "if (a > b):\n",
    "    print(\"A is bigger then B\")\n",
    "elif(b > a):\n",
    "    print(\"B is bigger then A\")\n",
    "else:\n",
    "    print(\"Both are Equal\")"
   ]
  },
  {
   "cell_type": "code",
   "execution_count": 21,
   "metadata": {},
   "outputs": [
    {
     "name": "stdout",
     "output_type": "stream",
     "text": [
      "B is Greater than C 8\n"
     ]
    }
   ],
   "source": [
    "# ----------- code - 3 ------------\n",
    "\n",
    "a = 5\n",
    "b = 8\n",
    "c = 7\n",
    "if (a > b or b > c):\n",
    "    print(\"B is Greater than C\",b)\n",
    "else:\n",
    "    print(\"Condition false\")"
   ]
  },
  {
   "cell_type": "code",
   "execution_count": 22,
   "metadata": {},
   "outputs": [
    {
     "name": "stdout",
     "output_type": "stream",
     "text": [
      "Condition False\n"
     ]
    }
   ],
   "source": [
    "#------------- code - 4 -------------\n",
    "\n",
    "a = 6\n",
    "b = 8\n",
    "c = 9\n",
    "\n",
    "if (a > b and c > b):\n",
    "    print(\"True\")\n",
    "else:\n",
    "    print(\"Condition False\")"
   ]
  },
  {
   "cell_type": "code",
   "execution_count": 23,
   "metadata": {},
   "outputs": [
    {
     "name": "stdout",
     "output_type": "stream",
     "text": [
      "n is absent in my_list\n"
     ]
    }
   ],
   "source": [
    "# -------------- code - 5 ---------\n",
    "\n",
    "my_list = [1, 2, 3, 4, 5, 6, 7]\n",
    "n = 8\n",
    "if n not in my_list:\n",
    "    print(\"n is absent in my_list\")\n",
    "\n"
   ]
  },
  {
   "cell_type": "code",
   "execution_count": null,
   "metadata": {},
   "outputs": [],
   "source": []
  }
 ],
 "metadata": {
  "kernelspec": {
   "display_name": "Python 3",
   "language": "python",
   "name": "python3"
  },
  "language_info": {
   "codemirror_mode": {
    "name": "ipython",
    "version": 3
   },
   "file_extension": ".py",
   "mimetype": "text/x-python",
   "name": "python",
   "nbconvert_exporter": "python",
   "pygments_lexer": "ipython3",
   "version": "3.8.3"
  }
 },
 "nbformat": 4,
 "nbformat_minor": 4
}
